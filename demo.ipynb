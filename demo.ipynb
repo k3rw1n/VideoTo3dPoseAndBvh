{
  "nbformat": 4,
  "nbformat_minor": 0,
  "metadata": {
    "hide_input": false,
    "kernelspec": {
      "display_name": "Python 3",
      "language": "python",
      "name": "python3"
    },
    "language_info": {
      "codemirror_mode": {
        "name": "ipython",
        "version": 3
      },
      "file_extension": ".py",
      "mimetype": "text/x-python",
      "name": "python",
      "nbconvert_exporter": "python",
      "pygments_lexer": "ipython3",
      "version": "3.7.0"
    },
    "toc": {
      "base_numbering": 1,
      "nav_menu": {},
      "number_sections": true,
      "sideBar": true,
      "skip_h1_title": false,
      "title_cell": "Table of Contents",
      "title_sidebar": "Contents",
      "toc_cell": false,
      "toc_position": {},
      "toc_section_display": true,
      "toc_window_display": false
    },
    "varInspector": {
      "cols": {
        "lenName": 16,
        "lenType": 16,
        "lenVar": 40
      },
      "kernels_config": {
        "python": {
          "delete_cmd_postfix": "",
          "delete_cmd_prefix": "del ",
          "library": "var_list.py",
          "varRefreshCmd": "print(var_dic_list())"
        },
        "r": {
          "delete_cmd_postfix": ") ",
          "delete_cmd_prefix": "rm(",
          "library": "var_list.r",
          "varRefreshCmd": "cat(var_dic_list()) "
        }
      },
      "types_to_exclude": [
        "module",
        "function",
        "builtin_function_or_method",
        "instance",
        "_Feature"
      ],
      "window_display": false
    },
    "colab": {
      "name": "demo.ipynb",
      "provenance": [],
      "collapsed_sections": []
    },
    "accelerator": "GPU"
  },
  "cells": [
    {
      "cell_type": "code",
      "metadata": {
        "colab": {
          "base_uri": "https://localhost:8080/"
        },
        "id": "ST2ee8oIfdmm",
        "outputId": "39dd448f-93d6-4158-ba78-836ec9baebbc"
      },
      "source": [
        "!git clone https://github.com/killerhack/VideoTo3dPoseAndBvh\n",
        "import os\n",
        "os.chdir('VideoTo3dPoseAndBvh')"
      ],
      "execution_count": 2,
      "outputs": [
        {
          "output_type": "stream",
          "text": [
            "Cloning into 'VideoTo3dPoseAndBvh'...\n",
            "remote: Enumerating objects: 5, done.\u001b[K\n",
            "remote: Counting objects: 100% (5/5), done.\u001b[K\n",
            "remote: Compressing objects: 100% (5/5), done.\u001b[K\n",
            "remote: Total 642 (delta 0), reused 2 (delta 0), pack-reused 637\u001b[K\n",
            "Receiving objects: 100% (642/642), 88.00 MiB | 39.18 MiB/s, done.\n",
            "Resolving deltas: 100% (150/150), done.\n"
          ],
          "name": "stdout"
        }
      ]
    },
    {
      "cell_type": "code",
      "metadata": {
        "colab": {
          "base_uri": "https://localhost:8080/"
        },
        "id": "27p2hsL4fdmu",
        "outputId": "836e8217-9dcf-4d63-b7db-3668fbc07222"
      },
      "source": [
        "!gdown --id 1OPORTWB2cwd5YTVBX-NE8fsauZJWsrtW\n",
        "!mv ./duc_se.pth ./joints_detectors/Alphapose/models/sppe\n",
        "!gdown --id 1D47msNOOiJKvPOXlnpyzdKA3k6E97NTC\n",
        "!mv ./yolov3-spp.weights ./joints_detectors/Alphapose/models/yolo\n",
        "!wget https://dl.fbaipublicfiles.com/video-pose-3d/pretrained_h36m_detectron_coco.bin\n",
        "!mv ./pretrained_h36m_detectron_coco.bin ./checkpoint\n"
      ],
      "execution_count": 6,
      "outputs": [
        {
          "output_type": "stream",
          "text": [
            "Downloading...\n",
            "From: https://drive.google.com/uc?id=1OPORTWB2cwd5YTVBX-NE8fsauZJWsrtW\n",
            "To: /content/VideoTo3dPoseAndBvh/duc_se.pth\n",
            "239MB [00:05, 47.5MB/s]\n",
            "Downloading...\n",
            "From: https://drive.google.com/uc?id=1D47msNOOiJKvPOXlnpyzdKA3k6E97NTC\n",
            "To: /content/VideoTo3dPoseAndBvh/yolov3-spp.weights\n",
            "252MB [00:04, 56.7MB/s]\n",
            "--2021-03-04 00:21:39--  https://dl.fbaipublicfiles.com/video-pose-3d/pretrained_h36m_detectron_coco.bin\n",
            "Resolving dl.fbaipublicfiles.com (dl.fbaipublicfiles.com)... 104.22.75.142, 172.67.9.4, 104.22.74.142, ...\n",
            "Connecting to dl.fbaipublicfiles.com (dl.fbaipublicfiles.com)|104.22.75.142|:443... connected.\n",
            "HTTP request sent, awaiting response... 200 OK\n",
            "Length: 67892577 (65M) [application/octet-stream]\n",
            "Saving to: ‘pretrained_h36m_detectron_coco.bin’\n",
            "\n",
            "pretrained_h36m_det 100%[===================>]  64.75M  14.1MB/s    in 5.0s    \n",
            "\n",
            "2021-03-04 00:21:44 (13.1 MB/s) - ‘pretrained_h36m_detectron_coco.bin’ saved [67892577/67892577]\n",
            "\n"
          ],
          "name": "stdout"
        }
      ]
    },
    {
      "cell_type": "code",
      "metadata": {
        "id": "xdEaTvwpnS_K"
      },
      "source": [
        "os.chdir('/content/VideoTo3dPoseAndBvh/')"
      ],
      "execution_count": 8,
      "outputs": []
    },
    {
      "cell_type": "code",
      "metadata": {
        "colab": {
          "base_uri": "https://localhost:8080/"
        },
        "id": "oxXppwpWf5b4",
        "outputId": "e0ffb758-9b78-49ac-c019-7373a4b80ec3"
      },
      "source": [
        "!python ./videopose.py"
      ],
      "execution_count": 11,
      "outputs": [
        {
          "output_type": "stream",
          "text": [
            "the video is 25.051 f/s\n",
            "Loading YOLO model..\n",
            "Loading pose model from joints_detectors/Alphapose/models/sppe/duc_se.pth\n",
            "Start pose estimation...\n",
            "100% 18/18 [00:01<00:00, 17.91it/s]\n",
            "===========================> Rendering remaining images in the queue...\n",
            "===========================> If this step takes too long, you can enable the --vis_fast flag to use fast rendering (real-time).\n",
            "kpts npz save in  /content/VideoTo3dPoseAndBvh/outputs/outputvideo/alpha_pose_kunkun_cut_one_second/kunkun_cut_one_second.npz\n",
            "-------------- load data spends 14.43 seconds\n",
            "Loading checkpoint checkpoint/pretrained_h36m_detectron_coco.bin\n",
            "-------------- load 3D model spends 0.04 seconds\n",
            "Rendering...\n",
            "-------------- generate reconstruction 3D data spends 0.18 seconds\n",
            "total spend 0.000032 second\n",
            "/content/VideoTo3dPoseAndBvh/outputs/inputvideo/kunkun_cut_one_second.mp4 --- elapsed time: 14.653919467999913 s\n"
          ],
          "name": "stdout"
        }
      ]
    }
  ]
}